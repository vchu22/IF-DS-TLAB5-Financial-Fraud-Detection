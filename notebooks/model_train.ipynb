{
 "cells": [
  {
   "cell_type": "markdown",
   "id": "b5bd66ee",
   "metadata": {},
   "source": [
    "# Model Training\n",
    "\n",
    "In this notebook, we will ask you a series of questions regarding model selection. Based on your responses, we will ask you to create the ML models that you've chosen. \n",
    "\n",
    "The bonus step is completely optional, but if you provide a sufficient third machine learning model in this project, we will add `1000` points to your Kahoot leaderboard score.\n",
    "\n",
    "**Note**: Use the dataset that you've created in your previous data transformation step (not the original model)."
   ]
  },
  {
   "cell_type": "markdown",
   "id": "c25b90a0",
   "metadata": {},
   "source": [
    "## Questions\n",
    "Is this a classification or regression task?  \n",
    "\n",
    "- Classification"
   ]
  },
  {
   "cell_type": "markdown",
   "id": "017bfb9f",
   "metadata": {},
   "source": [
    "Are you predicting for multiple classes or binary classes?  \n",
    "\n",
    "- Binary"
   ]
  },
  {
   "cell_type": "markdown",
   "id": "cdbd9378",
   "metadata": {},
   "source": [
    "Given these observations, which 2 (or possibly 3) machine learning models will you choose?  \n",
    "\n",
    "- Logistic Regression, SVM, KNN"
   ]
  },
  {
   "cell_type": "markdown",
   "id": "9c408b67",
   "metadata": {},
   "source": [
    "## First Model\n",
    "\n",
    "Using the first model that you've chosen, implement the following steps."
   ]
  },
  {
   "cell_type": "markdown",
   "id": "93fab3d0",
   "metadata": {},
   "source": [
    "### 1) Create a train-test split\n",
    "\n",
    "Use your cleaned and transformed dataset to divide your features and labels into training and testing sets. Make sure you’re only using numeric or properly encoded features.  "
   ]
  },
  {
   "cell_type": "code",
   "execution_count": 78,
   "id": "1b0c646a",
   "metadata": {},
   "outputs": [
    {
     "data": {
      "text/html": [
       "<div>\n",
       "<style scoped>\n",
       "    .dataframe tbody tr th:only-of-type {\n",
       "        vertical-align: middle;\n",
       "    }\n",
       "\n",
       "    .dataframe tbody tr th {\n",
       "        vertical-align: top;\n",
       "    }\n",
       "\n",
       "    .dataframe thead th {\n",
       "        text-align: right;\n",
       "    }\n",
       "</style>\n",
       "<table border=\"1\" class=\"dataframe\">\n",
       "  <thead>\n",
       "    <tr style=\"text-align: right;\">\n",
       "      <th></th>\n",
       "      <th>type</th>\n",
       "      <th>amount</th>\n",
       "      <th>nameOrig</th>\n",
       "      <th>oldbalanceOrg</th>\n",
       "      <th>newbalanceOrig</th>\n",
       "      <th>nameDest</th>\n",
       "      <th>oldbalanceDest</th>\n",
       "      <th>newbalanceDest</th>\n",
       "      <th>isFraud</th>\n",
       "      <th>isFlaggedFraud</th>\n",
       "    </tr>\n",
       "  </thead>\n",
       "  <tbody>\n",
       "    <tr>\n",
       "      <th>0</th>\n",
       "      <td>CASH_IN</td>\n",
       "      <td>63516.66</td>\n",
       "      <td>C4651324</td>\n",
       "      <td>54465.00</td>\n",
       "      <td>117981.66</td>\n",
       "      <td>C1850473537</td>\n",
       "      <td>0.00</td>\n",
       "      <td>0.00</td>\n",
       "      <td>0</td>\n",
       "      <td>0</td>\n",
       "    </tr>\n",
       "    <tr>\n",
       "      <th>1</th>\n",
       "      <td>CASH_IN</td>\n",
       "      <td>159445.40</td>\n",
       "      <td>C1979267367</td>\n",
       "      <td>227600.92</td>\n",
       "      <td>387046.31</td>\n",
       "      <td>C1177644576</td>\n",
       "      <td>751211.13</td>\n",
       "      <td>591765.73</td>\n",
       "      <td>0</td>\n",
       "      <td>0</td>\n",
       "    </tr>\n",
       "    <tr>\n",
       "      <th>2</th>\n",
       "      <td>CASH_IN</td>\n",
       "      <td>77739.33</td>\n",
       "      <td>C1886966268</td>\n",
       "      <td>2040.00</td>\n",
       "      <td>79779.33</td>\n",
       "      <td>C1677904805</td>\n",
       "      <td>50056.00</td>\n",
       "      <td>2532.04</td>\n",
       "      <td>0</td>\n",
       "      <td>0</td>\n",
       "    </tr>\n",
       "    <tr>\n",
       "      <th>3</th>\n",
       "      <td>CASH_OUT</td>\n",
       "      <td>135334.88</td>\n",
       "      <td>C312314421</td>\n",
       "      <td>48786.00</td>\n",
       "      <td>0.00</td>\n",
       "      <td>C503930792</td>\n",
       "      <td>0.00</td>\n",
       "      <td>135334.88</td>\n",
       "      <td>0</td>\n",
       "      <td>0</td>\n",
       "    </tr>\n",
       "    <tr>\n",
       "      <th>4</th>\n",
       "      <td>CASH_IN</td>\n",
       "      <td>118393.70</td>\n",
       "      <td>C728959033</td>\n",
       "      <td>50962.00</td>\n",
       "      <td>169355.70</td>\n",
       "      <td>C279942911</td>\n",
       "      <td>0.00</td>\n",
       "      <td>167607.91</td>\n",
       "      <td>0</td>\n",
       "      <td>0</td>\n",
       "    </tr>\n",
       "  </tbody>\n",
       "</table>\n",
       "</div>"
      ],
      "text/plain": [
       "       type     amount     nameOrig  oldbalanceOrg  newbalanceOrig  \\\n",
       "0   CASH_IN   63516.66     C4651324       54465.00       117981.66   \n",
       "1   CASH_IN  159445.40  C1979267367      227600.92       387046.31   \n",
       "2   CASH_IN   77739.33  C1886966268        2040.00        79779.33   \n",
       "3  CASH_OUT  135334.88   C312314421       48786.00            0.00   \n",
       "4   CASH_IN  118393.70   C728959033       50962.00       169355.70   \n",
       "\n",
       "      nameDest  oldbalanceDest  newbalanceDest  isFraud  isFlaggedFraud  \n",
       "0  C1850473537            0.00            0.00        0               0  \n",
       "1  C1177644576       751211.13       591765.73        0               0  \n",
       "2  C1677904805        50056.00         2532.04        0               0  \n",
       "3   C503930792            0.00       135334.88        0               0  \n",
       "4   C279942911            0.00       167607.91        0               0  "
      ]
     },
     "execution_count": 78,
     "metadata": {},
     "output_type": "execute_result"
    }
   ],
   "source": [
    "# imports\n",
    "from sklearn.linear_model import LogisticRegression\n",
    "from sklearn.metrics import accuracy_score, mean_squared_error, r2_score\n",
    "from sklearn.model_selection import train_test_split, RandomizedSearchCV, GridSearchCV\n",
    "import pandas as pd \n",
    "import numpy as np\n",
    "import time\n",
    "\n",
    "# using the subset of the entire dataset\n",
    "transactions = pd.read_csv(\"../data/bank_transactions_reduced.csv\")\n",
    "transactions.head()"
   ]
  },
  {
   "cell_type": "code",
   "execution_count": 79,
   "id": "d8fed543",
   "metadata": {},
   "outputs": [
    {
     "data": {
      "text/html": [
       "<div>\n",
       "<style scoped>\n",
       "    .dataframe tbody tr th:only-of-type {\n",
       "        vertical-align: middle;\n",
       "    }\n",
       "\n",
       "    .dataframe tbody tr th {\n",
       "        vertical-align: top;\n",
       "    }\n",
       "\n",
       "    .dataframe thead th {\n",
       "        text-align: right;\n",
       "    }\n",
       "</style>\n",
       "<table border=\"1\" class=\"dataframe\">\n",
       "  <thead>\n",
       "    <tr style=\"text-align: right;\">\n",
       "      <th></th>\n",
       "      <th>amount</th>\n",
       "      <th>oldbalanceOrg</th>\n",
       "      <th>newbalanceOrig</th>\n",
       "      <th>oldbalanceDest</th>\n",
       "      <th>newbalanceDest</th>\n",
       "    </tr>\n",
       "  </thead>\n",
       "  <tbody>\n",
       "    <tr>\n",
       "      <th>0</th>\n",
       "      <td>63516.66</td>\n",
       "      <td>54465.00</td>\n",
       "      <td>117981.66</td>\n",
       "      <td>0.00</td>\n",
       "      <td>0.00</td>\n",
       "    </tr>\n",
       "    <tr>\n",
       "      <th>1</th>\n",
       "      <td>159445.40</td>\n",
       "      <td>227600.92</td>\n",
       "      <td>387046.31</td>\n",
       "      <td>751211.13</td>\n",
       "      <td>591765.73</td>\n",
       "    </tr>\n",
       "    <tr>\n",
       "      <th>2</th>\n",
       "      <td>77739.33</td>\n",
       "      <td>2040.00</td>\n",
       "      <td>79779.33</td>\n",
       "      <td>50056.00</td>\n",
       "      <td>2532.04</td>\n",
       "    </tr>\n",
       "    <tr>\n",
       "      <th>3</th>\n",
       "      <td>135334.88</td>\n",
       "      <td>48786.00</td>\n",
       "      <td>0.00</td>\n",
       "      <td>0.00</td>\n",
       "      <td>135334.88</td>\n",
       "    </tr>\n",
       "    <tr>\n",
       "      <th>4</th>\n",
       "      <td>118393.70</td>\n",
       "      <td>50962.00</td>\n",
       "      <td>169355.70</td>\n",
       "      <td>0.00</td>\n",
       "      <td>167607.91</td>\n",
       "    </tr>\n",
       "  </tbody>\n",
       "</table>\n",
       "</div>"
      ],
      "text/plain": [
       "      amount  oldbalanceOrg  newbalanceOrig  oldbalanceDest  newbalanceDest\n",
       "0   63516.66       54465.00       117981.66            0.00            0.00\n",
       "1  159445.40      227600.92       387046.31       751211.13       591765.73\n",
       "2   77739.33        2040.00        79779.33        50056.00         2532.04\n",
       "3  135334.88       48786.00            0.00            0.00       135334.88\n",
       "4  118393.70       50962.00       169355.70            0.00       167607.91"
      ]
     },
     "execution_count": 79,
     "metadata": {},
     "output_type": "execute_result"
    }
   ],
   "source": [
    "# load dataset\n",
    "X = transactions.drop(['isFraud', 'isFlaggedFraud', 'type', 'nameOrig', 'nameDest'], axis=1)\n",
    "y = transactions['isFraud']\n",
    "# view first 5 rows of predictors\n",
    "X.head()"
   ]
  },
  {
   "cell_type": "code",
   "execution_count": 80,
   "id": "651d35b4",
   "metadata": {},
   "outputs": [
    {
     "data": {
      "text/html": [
       "<div>\n",
       "<style scoped>\n",
       "    .dataframe tbody tr th:only-of-type {\n",
       "        vertical-align: middle;\n",
       "    }\n",
       "\n",
       "    .dataframe tbody tr th {\n",
       "        vertical-align: top;\n",
       "    }\n",
       "\n",
       "    .dataframe thead th {\n",
       "        text-align: right;\n",
       "    }\n",
       "</style>\n",
       "<table border=\"1\" class=\"dataframe\">\n",
       "  <thead>\n",
       "    <tr style=\"text-align: right;\">\n",
       "      <th></th>\n",
       "      <th>amount</th>\n",
       "      <th>oldbalanceOrg</th>\n",
       "      <th>newbalanceOrig</th>\n",
       "      <th>oldbalanceDest</th>\n",
       "      <th>newbalanceDest</th>\n",
       "    </tr>\n",
       "  </thead>\n",
       "  <tbody>\n",
       "    <tr>\n",
       "      <th>9254</th>\n",
       "      <td>4991.92</td>\n",
       "      <td>0.00</td>\n",
       "      <td>0.00</td>\n",
       "      <td>0.00</td>\n",
       "      <td>0.00</td>\n",
       "    </tr>\n",
       "    <tr>\n",
       "      <th>1561</th>\n",
       "      <td>190509.48</td>\n",
       "      <td>2077257.80</td>\n",
       "      <td>2267767.28</td>\n",
       "      <td>1156520.81</td>\n",
       "      <td>966011.33</td>\n",
       "    </tr>\n",
       "    <tr>\n",
       "      <th>1670</th>\n",
       "      <td>63289.56</td>\n",
       "      <td>0.00</td>\n",
       "      <td>0.00</td>\n",
       "      <td>7564302.19</td>\n",
       "      <td>7627591.75</td>\n",
       "    </tr>\n",
       "    <tr>\n",
       "      <th>6087</th>\n",
       "      <td>69590.65</td>\n",
       "      <td>0.00</td>\n",
       "      <td>0.00</td>\n",
       "      <td>357084.05</td>\n",
       "      <td>426674.70</td>\n",
       "    </tr>\n",
       "    <tr>\n",
       "      <th>6669</th>\n",
       "      <td>154130.51</td>\n",
       "      <td>5133566.98</td>\n",
       "      <td>5287697.49</td>\n",
       "      <td>1273335.54</td>\n",
       "      <td>1119205.04</td>\n",
       "    </tr>\n",
       "  </tbody>\n",
       "</table>\n",
       "</div>"
      ],
      "text/plain": [
       "         amount  oldbalanceOrg  newbalanceOrig  oldbalanceDest  newbalanceDest\n",
       "9254    4991.92           0.00            0.00            0.00            0.00\n",
       "1561  190509.48     2077257.80      2267767.28      1156520.81       966011.33\n",
       "1670   63289.56           0.00            0.00      7564302.19      7627591.75\n",
       "6087   69590.65           0.00            0.00       357084.05       426674.70\n",
       "6669  154130.51     5133566.98      5287697.49      1273335.54      1119205.04"
      ]
     },
     "execution_count": 80,
     "metadata": {},
     "output_type": "execute_result"
    }
   ],
   "source": [
    "X_train, X_test, y_train, y_test = train_test_split(X, y, test_size=0.2, random_state=42)\n",
    "X_train.head()"
   ]
  },
  {
   "cell_type": "markdown",
   "id": "89c97f67",
   "metadata": {},
   "source": [
    "### 2) Search for best hyperparameters\n",
    "Use tools like GridSearchCV, RandomizedSearchCV, or model-specific tuning functions to find the best hyperparameters for your first model."
   ]
  },
  {
   "cell_type": "code",
   "execution_count": 81,
   "id": "59c8fc08",
   "metadata": {},
   "outputs": [
    {
     "name": "stdout",
     "output_type": "stream",
     "text": [
      "Learned coefficients [ 1.73646243e-08  8.75857872e-08 -8.69302550e-08  1.45350714e-08\n",
      " -1.47676540e-08] \n",
      "\n"
     ]
    },
    {
     "name": "stderr",
     "output_type": "stream",
     "text": [
      "c:\\Users\\user\\miniconda3\\envs\\ds\\Lib\\site-packages\\sklearn\\linear_model\\_coordinate_descent.py:695: ConvergenceWarning: Objective did not converge. You might want to increase the number of iterations, check the scale of the features or consider increasing regularisation. Duality gap: 4.821e+00, tolerance: 1.098e-03\n",
      "  model = cd_fast.enet_coordinate_descent(\n"
     ]
    }
   ],
   "source": [
    "from sklearn.linear_model import Lasso\n",
    "lasso = Lasso(alpha=1.0)\n",
    "\n",
    "lasso.fit(X_train, y_train)\n",
    "print(\"Learned coefficients\", lasso.coef_, '\\n')"
   ]
  },
  {
   "cell_type": "code",
   "execution_count": 82,
   "id": "f8cb088e",
   "metadata": {},
   "outputs": [
    {
     "name": "stdout",
     "output_type": "stream",
     "text": [
      "Train MSE (Basic LASSO, alpha=1.0): 0.00\n"
     ]
    }
   ],
   "source": [
    "y_train_pred = lasso.predict(X_train)\n",
    "mse_test = mean_squared_error(y_train, y_train_pred)\n",
    "\n",
    "print(f\"Train MSE (Basic LASSO, alpha=1.0): {mse_test:.2f}\")"
   ]
  },
  {
   "cell_type": "code",
   "execution_count": 83,
   "id": "8bb31f81",
   "metadata": {},
   "outputs": [
    {
     "name": "stderr",
     "output_type": "stream",
     "text": [
      "c:\\Users\\user\\miniconda3\\envs\\ds\\Lib\\site-packages\\sklearn\\linear_model\\_coordinate_descent.py:695: ConvergenceWarning: Objective did not converge. You might want to increase the number of iterations, check the scale of the features or consider increasing regularisation. Duality gap: 4.123e+00, tolerance: 9.984e-04\n",
      "  model = cd_fast.enet_coordinate_descent(\n",
      "c:\\Users\\user\\miniconda3\\envs\\ds\\Lib\\site-packages\\sklearn\\linear_model\\_coordinate_descent.py:695: ConvergenceWarning: Objective did not converge. You might want to increase the number of iterations, check the scale of the features or consider increasing regularisation. Duality gap: 3.761e+00, tolerance: 8.987e-04\n",
      "  model = cd_fast.enet_coordinate_descent(\n",
      "c:\\Users\\user\\miniconda3\\envs\\ds\\Lib\\site-packages\\sklearn\\linear_model\\_coordinate_descent.py:695: ConvergenceWarning: Objective did not converge. You might want to increase the number of iterations, check the scale of the features or consider increasing regularisation. Duality gap: 3.374e+00, tolerance: 7.990e-04\n",
      "  model = cd_fast.enet_coordinate_descent(\n",
      "c:\\Users\\user\\miniconda3\\envs\\ds\\Lib\\site-packages\\sklearn\\linear_model\\_coordinate_descent.py:695: ConvergenceWarning: Objective did not converge. You might want to increase the number of iterations, check the scale of the features or consider increasing regularisation. Duality gap: 4.124e+00, tolerance: 9.984e-04\n",
      "  model = cd_fast.enet_coordinate_descent(\n",
      "c:\\Users\\user\\miniconda3\\envs\\ds\\Lib\\site-packages\\sklearn\\linear_model\\_coordinate_descent.py:695: ConvergenceWarning: Objective did not converge. You might want to increase the number of iterations, check the scale of the features or consider increasing regularisation. Duality gap: 3.135e+00, tolerance: 6.992e-04\n",
      "  model = cd_fast.enet_coordinate_descent(\n",
      "c:\\Users\\user\\miniconda3\\envs\\ds\\Lib\\site-packages\\sklearn\\linear_model\\_coordinate_descent.py:695: ConvergenceWarning: Objective did not converge. You might want to increase the number of iterations, check the scale of the features or consider increasing regularisation. Duality gap: 4.211e+00, tolerance: 9.984e-04\n",
      "  model = cd_fast.enet_coordinate_descent(\n",
      "c:\\Users\\user\\miniconda3\\envs\\ds\\Lib\\site-packages\\sklearn\\linear_model\\_coordinate_descent.py:695: ConvergenceWarning: Objective did not converge. You might want to increase the number of iterations, check the scale of the features or consider increasing regularisation. Duality gap: 3.853e+00, tolerance: 8.987e-04\n",
      "  model = cd_fast.enet_coordinate_descent(\n",
      "c:\\Users\\user\\miniconda3\\envs\\ds\\Lib\\site-packages\\sklearn\\linear_model\\_coordinate_descent.py:695: ConvergenceWarning: Objective did not converge. You might want to increase the number of iterations, check the scale of the features or consider increasing regularisation. Duality gap: 3.437e+00, tolerance: 7.990e-04\n",
      "  model = cd_fast.enet_coordinate_descent(\n",
      "c:\\Users\\user\\miniconda3\\envs\\ds\\Lib\\site-packages\\sklearn\\linear_model\\_coordinate_descent.py:695: ConvergenceWarning: Objective did not converge. You might want to increase the number of iterations, check the scale of the features or consider increasing regularisation. Duality gap: 4.206e+00, tolerance: 9.984e-04\n",
      "  model = cd_fast.enet_coordinate_descent(\n",
      "c:\\Users\\user\\miniconda3\\envs\\ds\\Lib\\site-packages\\sklearn\\linear_model\\_coordinate_descent.py:695: ConvergenceWarning: Objective did not converge. You might want to increase the number of iterations, check the scale of the features or consider increasing regularisation. Duality gap: 3.242e+00, tolerance: 6.992e-04\n",
      "  model = cd_fast.enet_coordinate_descent(\n",
      "c:\\Users\\user\\miniconda3\\envs\\ds\\Lib\\site-packages\\sklearn\\linear_model\\_coordinate_descent.py:695: ConvergenceWarning: Objective did not converge. You might want to increase the number of iterations, check the scale of the features or consider increasing regularisation. Duality gap: 4.094e+00, tolerance: 9.984e-04\n",
      "  model = cd_fast.enet_coordinate_descent(\n",
      "c:\\Users\\user\\miniconda3\\envs\\ds\\Lib\\site-packages\\sklearn\\linear_model\\_coordinate_descent.py:695: ConvergenceWarning: Objective did not converge. You might want to increase the number of iterations, check the scale of the features or consider increasing regularisation. Duality gap: 3.731e+00, tolerance: 8.987e-04\n",
      "  model = cd_fast.enet_coordinate_descent(\n",
      "c:\\Users\\user\\miniconda3\\envs\\ds\\Lib\\site-packages\\sklearn\\linear_model\\_coordinate_descent.py:695: ConvergenceWarning: Objective did not converge. You might want to increase the number of iterations, check the scale of the features or consider increasing regularisation. Duality gap: 3.353e+00, tolerance: 7.990e-04\n",
      "  model = cd_fast.enet_coordinate_descent(\n",
      "c:\\Users\\user\\miniconda3\\envs\\ds\\Lib\\site-packages\\sklearn\\linear_model\\_coordinate_descent.py:695: ConvergenceWarning: Objective did not converge. You might want to increase the number of iterations, check the scale of the features or consider increasing regularisation. Duality gap: 4.097e+00, tolerance: 9.984e-04\n",
      "  model = cd_fast.enet_coordinate_descent(\n",
      "c:\\Users\\user\\miniconda3\\envs\\ds\\Lib\\site-packages\\sklearn\\linear_model\\_coordinate_descent.py:695: ConvergenceWarning: Objective did not converge. You might want to increase the number of iterations, check the scale of the features or consider increasing regularisation. Duality gap: 3.100e+00, tolerance: 6.992e-04\n",
      "  model = cd_fast.enet_coordinate_descent(\n",
      "c:\\Users\\user\\miniconda3\\envs\\ds\\Lib\\site-packages\\sklearn\\linear_model\\_coordinate_descent.py:695: ConvergenceWarning: Objective did not converge. You might want to increase the number of iterations, check the scale of the features or consider increasing regularisation. Duality gap: 4.208e+00, tolerance: 9.984e-04\n",
      "  model = cd_fast.enet_coordinate_descent(\n",
      "c:\\Users\\user\\miniconda3\\envs\\ds\\Lib\\site-packages\\sklearn\\linear_model\\_coordinate_descent.py:695: ConvergenceWarning: Objective did not converge. You might want to increase the number of iterations, check the scale of the features or consider increasing regularisation. Duality gap: 3.849e+00, tolerance: 8.987e-04\n",
      "  model = cd_fast.enet_coordinate_descent(\n",
      "c:\\Users\\user\\miniconda3\\envs\\ds\\Lib\\site-packages\\sklearn\\linear_model\\_coordinate_descent.py:695: ConvergenceWarning: Objective did not converge. You might want to increase the number of iterations, check the scale of the features or consider increasing regularisation. Duality gap: 3.434e+00, tolerance: 7.990e-04\n",
      "  model = cd_fast.enet_coordinate_descent(\n",
      "c:\\Users\\user\\miniconda3\\envs\\ds\\Lib\\site-packages\\sklearn\\linear_model\\_coordinate_descent.py:695: ConvergenceWarning: Objective did not converge. You might want to increase the number of iterations, check the scale of the features or consider increasing regularisation. Duality gap: 4.202e+00, tolerance: 9.984e-04\n",
      "  model = cd_fast.enet_coordinate_descent(\n",
      "c:\\Users\\user\\miniconda3\\envs\\ds\\Lib\\site-packages\\sklearn\\linear_model\\_coordinate_descent.py:695: ConvergenceWarning: Objective did not converge. You might want to increase the number of iterations, check the scale of the features or consider increasing regularisation. Duality gap: 3.237e+00, tolerance: 6.992e-04\n",
      "  model = cd_fast.enet_coordinate_descent(\n",
      "c:\\Users\\user\\miniconda3\\envs\\ds\\Lib\\site-packages\\sklearn\\linear_model\\_coordinate_descent.py:695: ConvergenceWarning: Objective did not converge. You might want to increase the number of iterations, check the scale of the features or consider increasing regularisation. Duality gap: 4.109e+00, tolerance: 9.984e-04\n",
      "  model = cd_fast.enet_coordinate_descent(\n",
      "c:\\Users\\user\\miniconda3\\envs\\ds\\Lib\\site-packages\\sklearn\\linear_model\\_coordinate_descent.py:695: ConvergenceWarning: Objective did not converge. You might want to increase the number of iterations, check the scale of the features or consider increasing regularisation. Duality gap: 3.746e+00, tolerance: 8.987e-04\n",
      "  model = cd_fast.enet_coordinate_descent(\n",
      "c:\\Users\\user\\miniconda3\\envs\\ds\\Lib\\site-packages\\sklearn\\linear_model\\_coordinate_descent.py:695: ConvergenceWarning: Objective did not converge. You might want to increase the number of iterations, check the scale of the features or consider increasing regularisation. Duality gap: 3.363e+00, tolerance: 7.990e-04\n",
      "  model = cd_fast.enet_coordinate_descent(\n",
      "c:\\Users\\user\\miniconda3\\envs\\ds\\Lib\\site-packages\\sklearn\\linear_model\\_coordinate_descent.py:695: ConvergenceWarning: Objective did not converge. You might want to increase the number of iterations, check the scale of the features or consider increasing regularisation. Duality gap: 4.110e+00, tolerance: 9.984e-04\n",
      "  model = cd_fast.enet_coordinate_descent(\n",
      "c:\\Users\\user\\miniconda3\\envs\\ds\\Lib\\site-packages\\sklearn\\linear_model\\_coordinate_descent.py:695: ConvergenceWarning: Objective did not converge. You might want to increase the number of iterations, check the scale of the features or consider increasing regularisation. Duality gap: 3.117e+00, tolerance: 6.992e-04\n",
      "  model = cd_fast.enet_coordinate_descent(\n",
      "c:\\Users\\user\\miniconda3\\envs\\ds\\Lib\\site-packages\\sklearn\\linear_model\\_coordinate_descent.py:695: ConvergenceWarning: Objective did not converge. You might want to increase the number of iterations, check the scale of the features or consider increasing regularisation. Duality gap: 4.158e+00, tolerance: 9.984e-04\n",
      "  model = cd_fast.enet_coordinate_descent(\n",
      "c:\\Users\\user\\miniconda3\\envs\\ds\\Lib\\site-packages\\sklearn\\linear_model\\_coordinate_descent.py:695: ConvergenceWarning: Objective did not converge. You might want to increase the number of iterations, check the scale of the features or consider increasing regularisation. Duality gap: 3.797e+00, tolerance: 8.987e-04\n",
      "  model = cd_fast.enet_coordinate_descent(\n",
      "c:\\Users\\user\\miniconda3\\envs\\ds\\Lib\\site-packages\\sklearn\\linear_model\\_coordinate_descent.py:695: ConvergenceWarning: Objective did not converge. You might want to increase the number of iterations, check the scale of the features or consider increasing regularisation. Duality gap: 3.399e+00, tolerance: 7.990e-04\n",
      "  model = cd_fast.enet_coordinate_descent(\n",
      "c:\\Users\\user\\miniconda3\\envs\\ds\\Lib\\site-packages\\sklearn\\linear_model\\_coordinate_descent.py:695: ConvergenceWarning: Objective did not converge. You might want to increase the number of iterations, check the scale of the features or consider increasing regularisation. Duality gap: 4.156e+00, tolerance: 9.984e-04\n",
      "  model = cd_fast.enet_coordinate_descent(\n",
      "c:\\Users\\user\\miniconda3\\envs\\ds\\Lib\\site-packages\\sklearn\\linear_model\\_coordinate_descent.py:695: ConvergenceWarning: Objective did not converge. You might want to increase the number of iterations, check the scale of the features or consider increasing regularisation. Duality gap: 3.177e+00, tolerance: 6.992e-04\n",
      "  model = cd_fast.enet_coordinate_descent(\n",
      "c:\\Users\\user\\miniconda3\\envs\\ds\\Lib\\site-packages\\sklearn\\linear_model\\_coordinate_descent.py:695: ConvergenceWarning: Objective did not converge. You might want to increase the number of iterations, check the scale of the features or consider increasing regularisation. Duality gap: 4.165e+00, tolerance: 9.984e-04\n",
      "  model = cd_fast.enet_coordinate_descent(\n",
      "c:\\Users\\user\\miniconda3\\envs\\ds\\Lib\\site-packages\\sklearn\\linear_model\\_coordinate_descent.py:695: ConvergenceWarning: Objective did not converge. You might want to increase the number of iterations, check the scale of the features or consider increasing regularisation. Duality gap: 3.805e+00, tolerance: 8.987e-04\n",
      "  model = cd_fast.enet_coordinate_descent(\n",
      "c:\\Users\\user\\miniconda3\\envs\\ds\\Lib\\site-packages\\sklearn\\linear_model\\_coordinate_descent.py:695: ConvergenceWarning: Objective did not converge. You might want to increase the number of iterations, check the scale of the features or consider increasing regularisation. Duality gap: 3.404e+00, tolerance: 7.990e-04\n",
      "  model = cd_fast.enet_coordinate_descent(\n",
      "c:\\Users\\user\\miniconda3\\envs\\ds\\Lib\\site-packages\\sklearn\\linear_model\\_coordinate_descent.py:695: ConvergenceWarning: Objective did not converge. You might want to increase the number of iterations, check the scale of the features or consider increasing regularisation. Duality gap: 4.163e+00, tolerance: 9.984e-04\n",
      "  model = cd_fast.enet_coordinate_descent(\n",
      "c:\\Users\\user\\miniconda3\\envs\\ds\\Lib\\site-packages\\sklearn\\linear_model\\_coordinate_descent.py:695: ConvergenceWarning: Objective did not converge. You might want to increase the number of iterations, check the scale of the features or consider increasing regularisation. Duality gap: 3.186e+00, tolerance: 6.992e-04\n",
      "  model = cd_fast.enet_coordinate_descent(\n",
      "c:\\Users\\user\\miniconda3\\envs\\ds\\Lib\\site-packages\\sklearn\\linear_model\\_coordinate_descent.py:695: ConvergenceWarning: Objective did not converge. You might want to increase the number of iterations, check the scale of the features or consider increasing regularisation. Duality gap: 4.264e+00, tolerance: 9.984e-04\n",
      "  model = cd_fast.enet_coordinate_descent(\n",
      "c:\\Users\\user\\miniconda3\\envs\\ds\\Lib\\site-packages\\sklearn\\linear_model\\_coordinate_descent.py:695: ConvergenceWarning: Objective did not converge. You might want to increase the number of iterations, check the scale of the features or consider increasing regularisation. Duality gap: 3.907e+00, tolerance: 8.987e-04\n",
      "  model = cd_fast.enet_coordinate_descent(\n",
      "c:\\Users\\user\\miniconda3\\envs\\ds\\Lib\\site-packages\\sklearn\\linear_model\\_coordinate_descent.py:695: ConvergenceWarning: Objective did not converge. You might want to increase the number of iterations, check the scale of the features or consider increasing regularisation. Duality gap: 3.473e+00, tolerance: 7.990e-04\n",
      "  model = cd_fast.enet_coordinate_descent(\n",
      "c:\\Users\\user\\miniconda3\\envs\\ds\\Lib\\site-packages\\sklearn\\linear_model\\_coordinate_descent.py:695: ConvergenceWarning: Objective did not converge. You might want to increase the number of iterations, check the scale of the features or consider increasing regularisation. Duality gap: 4.254e+00, tolerance: 9.984e-04\n",
      "  model = cd_fast.enet_coordinate_descent(\n",
      "c:\\Users\\user\\miniconda3\\envs\\ds\\Lib\\site-packages\\sklearn\\linear_model\\_coordinate_descent.py:695: ConvergenceWarning: Objective did not converge. You might want to increase the number of iterations, check the scale of the features or consider increasing regularisation. Duality gap: 3.305e+00, tolerance: 6.992e-04\n",
      "  model = cd_fast.enet_coordinate_descent(\n",
      "c:\\Users\\user\\miniconda3\\envs\\ds\\Lib\\site-packages\\sklearn\\linear_model\\_coordinate_descent.py:695: ConvergenceWarning: Objective did not converge. You might want to increase the number of iterations, check the scale of the features or consider increasing regularisation. Duality gap: 4.134e+00, tolerance: 9.984e-04\n",
      "  model = cd_fast.enet_coordinate_descent(\n",
      "c:\\Users\\user\\miniconda3\\envs\\ds\\Lib\\site-packages\\sklearn\\linear_model\\_coordinate_descent.py:695: ConvergenceWarning: Objective did not converge. You might want to increase the number of iterations, check the scale of the features or consider increasing regularisation. Duality gap: 3.773e+00, tolerance: 8.987e-04\n",
      "  model = cd_fast.enet_coordinate_descent(\n",
      "c:\\Users\\user\\miniconda3\\envs\\ds\\Lib\\site-packages\\sklearn\\linear_model\\_coordinate_descent.py:695: ConvergenceWarning: Objective did not converge. You might want to increase the number of iterations, check the scale of the features or consider increasing regularisation. Duality gap: 3.382e+00, tolerance: 7.990e-04\n",
      "  model = cd_fast.enet_coordinate_descent(\n",
      "c:\\Users\\user\\miniconda3\\envs\\ds\\Lib\\site-packages\\sklearn\\linear_model\\_coordinate_descent.py:695: ConvergenceWarning: Objective did not converge. You might want to increase the number of iterations, check the scale of the features or consider increasing regularisation. Duality gap: 4.134e+00, tolerance: 9.984e-04\n",
      "  model = cd_fast.enet_coordinate_descent(\n",
      "c:\\Users\\user\\miniconda3\\envs\\ds\\Lib\\site-packages\\sklearn\\linear_model\\_coordinate_descent.py:695: ConvergenceWarning: Objective did not converge. You might want to increase the number of iterations, check the scale of the features or consider increasing regularisation. Duality gap: 3.148e+00, tolerance: 6.992e-04\n",
      "  model = cd_fast.enet_coordinate_descent(\n",
      "c:\\Users\\user\\miniconda3\\envs\\ds\\Lib\\site-packages\\sklearn\\linear_model\\_coordinate_descent.py:695: ConvergenceWarning: Objective did not converge. You might want to increase the number of iterations, check the scale of the features or consider increasing regularisation. Duality gap: 4.136e+00, tolerance: 9.984e-04\n",
      "  model = cd_fast.enet_coordinate_descent(\n",
      "c:\\Users\\user\\miniconda3\\envs\\ds\\Lib\\site-packages\\sklearn\\linear_model\\_coordinate_descent.py:695: ConvergenceWarning: Objective did not converge. You might want to increase the number of iterations, check the scale of the features or consider increasing regularisation. Duality gap: 3.775e+00, tolerance: 8.987e-04\n",
      "  model = cd_fast.enet_coordinate_descent(\n",
      "c:\\Users\\user\\miniconda3\\envs\\ds\\Lib\\site-packages\\sklearn\\linear_model\\_coordinate_descent.py:695: ConvergenceWarning: Objective did not converge. You might want to increase the number of iterations, check the scale of the features or consider increasing regularisation. Duality gap: 3.383e+00, tolerance: 7.990e-04\n",
      "  model = cd_fast.enet_coordinate_descent(\n",
      "c:\\Users\\user\\miniconda3\\envs\\ds\\Lib\\site-packages\\sklearn\\linear_model\\_coordinate_descent.py:695: ConvergenceWarning: Objective did not converge. You might want to increase the number of iterations, check the scale of the features or consider increasing regularisation. Duality gap: 4.136e+00, tolerance: 9.984e-04\n",
      "  model = cd_fast.enet_coordinate_descent(\n",
      "c:\\Users\\user\\miniconda3\\envs\\ds\\Lib\\site-packages\\sklearn\\linear_model\\_coordinate_descent.py:695: ConvergenceWarning: Objective did not converge. You might want to increase the number of iterations, check the scale of the features or consider increasing regularisation. Duality gap: 3.150e+00, tolerance: 6.992e-04\n",
      "  model = cd_fast.enet_coordinate_descent(\n"
     ]
    },
    {
     "name": "stdout",
     "output_type": "stream",
     "text": [
      "RandomizedSearchCV - Best alpha: 9.394545454545455\n",
      "RandomizedSearchCV - Test MSE: 0.00\n",
      "RandomizedSearchCV - Time elapsed: 20.32 seconds\n"
     ]
    },
    {
     "name": "stderr",
     "output_type": "stream",
     "text": [
      "c:\\Users\\user\\miniconda3\\envs\\ds\\Lib\\site-packages\\sklearn\\linear_model\\_coordinate_descent.py:695: ConvergenceWarning: Objective did not converge. You might want to increase the number of iterations, check the scale of the features or consider increasing regularisation. Duality gap: 4.632e+00, tolerance: 1.098e-03\n",
      "  model = cd_fast.enet_coordinate_descent(\n"
     ]
    }
   ],
   "source": [
    "# RandomSearchCV\n",
    "alpha_grid = {'alpha': np.linspace(0.01, 10, 100)}\n",
    "\n",
    "lasso_model = Lasso()\n",
    "\n",
    "# start the timer\n",
    "start_time = time.time()\n",
    "\n",
    "grid_search = RandomizedSearchCV(estimator=lasso_model, param_distributions=alpha_grid, cv=5)\n",
    "grid_search.fit(X_train, y_train)\n",
    "\n",
    "# end the timer after we're done fitting\n",
    "end_time = time.time()\n",
    "# calculate elapsed time\n",
    "elapsed_time_grid = end_time - start_time\n",
    "\n",
    "# Extract the best model from random search\n",
    "best_alpha_grid = grid_search.best_params_['alpha']\n",
    "y_test_pred_grid = grid_search.best_estimator_.predict(X_test)\n",
    "mse_test_grid = mean_squared_error(y_test, y_test_pred_grid)\n",
    "\n",
    "print(f\"RandomizedSearchCV - Best alpha: {best_alpha_grid}\")\n",
    "print(f\"RandomizedSearchCV - Test MSE: {mse_test_grid:.2f}\")\n",
    "print(f\"RandomizedSearchCV - Time elapsed: {elapsed_time_grid:.2f} seconds\")\n"
   ]
  },
  {
   "cell_type": "markdown",
   "id": "ed30eee3",
   "metadata": {},
   "source": [
    "### 3) Train your model\n",
    "Select the model with best hyperparameters and generate predictions on your test set. Evaluate your models accuracy, precision, recall, and sensitivity.  "
   ]
  },
  {
   "cell_type": "code",
   "execution_count": null,
   "id": "228ed831",
   "metadata": {},
   "outputs": [
    {
     "name": "stdout",
     "output_type": "stream",
     "text": [
      "RandomizedSearchCV - Best Params: {'solver': 'saga', 'penalty': 'l2', 'max_iter': 10000, 'C': np.float64(0.48000000000000004)}\n",
      "RandomizedSearchCV - Cross-Val Accuracy: 1.00\n"
     ]
    }
   ],
   "source": [
    "# Randomly search for the best hyperparameters on a logistic regression model\n",
    "param_dist = {\n",
    "    'penalty': ['l1', 'l2'],\n",
    "    'C': np.linspace(0.01, 1, 100),\n",
    "    'solver': ['saga'], \n",
    "    'max_iter': [10000]\n",
    "}\n",
    "\n",
    "model = RandomizedSearchCV(LogisticRegression(), param_distributions=param_dist, cv=5, scoring='accuracy', random_state=42)\n",
    "model.fit(X_train, y_train)\n",
    "\n",
    "# Best model from random search\n",
    "best_params_random = model.best_params_\n",
    "best_score_random = model.best_score_\n",
    "\n",
    "print(f\"RandomizedSearchCV - Best Params: {best_params_random}\")\n",
    "print(f\"RandomizedSearchCV - Cross-Val Accuracy: {best_score_random:.2f}\")"
   ]
  },
  {
   "cell_type": "code",
   "execution_count": null,
   "id": "63c5a384",
   "metadata": {},
   "outputs": [
    {
     "name": "stdout",
     "output_type": "stream",
     "text": [
      "RandomizedSearchCV - Coefficients: [[-6.71296237e-06 -6.06840396e-06 -8.11399855e-06 -4.57650696e-06\n",
      "  -6.79674871e-06]]\n",
      "RandomizedSearchCV - Test Accuracy: 1.00\n"
     ]
    }
   ],
   "source": [
    "# Use the best model found from RandomizedSearchCV to predict on unseen test data\n",
    "\n",
    "# extract the best estimator\n",
    "best_log = model.best_estimator_\n",
    "\n",
    "# predict on testing data\n",
    "log_predictions = best_log.predict(X_test)\n",
    "\n",
    "# evaluate its accuracy\n",
    "test_score = accuracy_score(log_predictions, y_test)\n",
    "\n",
    "print(f\"RandomizedSearchCV - Coefficients: {best_log.coef_}\")\n",
    "print(f\"RandomizedSearchCV - Test Accuracy: {test_score:.2f}\")"
   ]
  },
  {
   "cell_type": "code",
   "execution_count": null,
   "id": "e347cb8c",
   "metadata": {},
   "outputs": [
    {
     "name": "stdout",
     "output_type": "stream",
     "text": [
      "Confusion Matrix:\n",
      " [[1996    0]\n",
      " [   4    0]]\n",
      "Accuracy: 1.00\n",
      "Precision: 0.00\n",
      "Recall (Sensitivity): 0.00\n",
      "Specificity: 1.00\n",
      "F1 Score: 0.00\n"
     ]
    },
    {
     "name": "stderr",
     "output_type": "stream",
     "text": [
      "c:\\Users\\user\\miniconda3\\envs\\ds\\Lib\\site-packages\\sklearn\\metrics\\_classification.py:1565: UndefinedMetricWarning: Precision is ill-defined and being set to 0.0 due to no predicted samples. Use `zero_division` parameter to control this behavior.\n",
      "  _warn_prf(average, modifier, f\"{metric.capitalize()} is\", len(result))\n"
     ]
    }
   ],
   "source": [
    "# Import for metrics\n",
    "from sklearn.metrics import confusion_matrix, precision_score, recall_score, f1_score\n",
    "\n",
    "y_pred = model.predict(X_test)\n",
    "\n",
    "# generate a confusion matrix\n",
    "cm = confusion_matrix(y_test, y_pred)\n",
    "print(\"Confusion Matrix:\\n\", cm)\n",
    "# calculate all measures of accuracy\n",
    "accuracy = accuracy_score(y_test, y_pred)\n",
    "precision = precision_score(y_test, y_pred)\n",
    "recall = recall_score(y_test, y_pred)\n",
    "f1 = f1_score(y_test, y_pred)\n",
    "\n",
    "# calculate specificity by hand\n",
    "tn, fp, fn, tp = cm.ravel()\n",
    "specificity = tn / (tn + fp)\n",
    "\n",
    "print(f\"Accuracy: {accuracy:.2f}\")\n",
    "print(f\"Precision: {precision:.2f}\")\n",
    "print(f\"Recall (Sensitivity): {recall:.2f}\")\n",
    "print(f\"Specificity: {specificity:.2f}\")\n",
    "print(f\"F1 Score: {f1:.2f}\")"
   ]
  },
  {
   "cell_type": "markdown",
   "id": "db128d64",
   "metadata": {},
   "source": [
    "## Second Model\n",
    "\n",
    "Create a second machine learning object and rerun steps (2) & (3) on this model. Compare accuracy metrics between these two models. Which handles the class imbalance more effectively?\n",
    "\n",
    "Create as many code-blocks as needed."
   ]
  },
  {
   "cell_type": "code",
   "execution_count": null,
   "id": "732baab4",
   "metadata": {},
   "outputs": [],
   "source": []
  },
  {
   "cell_type": "markdown",
   "id": "4e66c411",
   "metadata": {},
   "source": [
    "### (Bonus/Optional) Third Model\n",
    "\n",
    "Create a third machine learning model and rerun steps (2) & (3) on this model. Which model has the best predictive capabilities? \n",
    "\n",
    "Create as many code-blocks as needed."
   ]
  },
  {
   "cell_type": "code",
   "execution_count": null,
   "id": "a7c3f5ea",
   "metadata": {},
   "outputs": [],
   "source": []
  }
 ],
 "metadata": {
  "kernelspec": {
   "display_name": "ds",
   "language": "python",
   "name": "python3"
  },
  "language_info": {
   "codemirror_mode": {
    "name": "ipython",
    "version": 3
   },
   "file_extension": ".py",
   "mimetype": "text/x-python",
   "name": "python",
   "nbconvert_exporter": "python",
   "pygments_lexer": "ipython3",
   "version": "3.12.9"
  }
 },
 "nbformat": 4,
 "nbformat_minor": 5
}
